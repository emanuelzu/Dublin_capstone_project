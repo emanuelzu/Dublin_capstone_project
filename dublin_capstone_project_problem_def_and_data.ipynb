{
 "cells": [
  {
   "cell_type": "markdown",
   "metadata": {},
   "source": [
    "## Introduction: Defining the Business Problem <a name=\"introduction\"></a>"
   ]
  },
  {
   "cell_type": "markdown",
   "metadata": {},
   "source": [
    "Dublin, the capital and the largest city of Ireland, is situated on a bay of the North Atlantic Ocean and is bordered by the Dublin Mountains on the south. With an estimate of 50% of its citizens being younger than 25, Dublin is, for sure, one of the most youthful cities in Europe. Companies such as Google, Amazon, Microsoft, Citigroup, PayPal, Facebook, Twitter have European headquarters or operational bases there. As a consequence, Dublin is sometimes referred to as the new \"Tech Capital of Europe\".\n",
    "\n",
    "First of all, Dublin is known for its many pubs across the city. When speaking about nightlife, the best known area among tourists is the Temple Bar Neighborhood. The area is also known for its street performers and small live music venues. Other areas like those around Leeson Street, Harcourt Street, South William Street or Camden Street are popular among locals. When speaking about cuisine, there were five restaurants in 2018 in Dublin which shared six Michelin stars: Restaurant Patrick Guilbaud had two stars and there were four other restaurants with one star each (according to the Michelin Guide). \n",
    "\n",
    "Mr. John Guinness, a software developer, found a new job in Dublin and decided to move there. He is interested to rent an apartment. *Where are the best places for him to leave? Which districts in Dublin best fit his preferences?* \n",
    "\n",
    "Mr. Guinness provided us with a list of his preferences: theaters, parks, beaches, gyms, public transportation, pubs, restaurants (especially Italian and Chinese), coffee shops, shopping malls, supermarkets, groceries and convenience shops.  \n",
    "\n",
    "There are 22 districts in Dublin. We will use the *Foursquare* location data platform (https://foursquare.com/), and we will look for the most relevant venues for each district. We will group the districts regarding the categories of venues in Mr. Guinness' preferences list and, finally, we will find the group of districts which best matches his preferences."
   ]
  },
  {
   "cell_type": "markdown",
   "metadata": {},
   "source": [
    "## Data acquisition and preparation <a name=\"data\"></a>"
   ]
  },
  {
   "cell_type": "markdown",
   "metadata": {},
   "source": [
    "There are 22 districts in Dublin. One can find a list of the districts and their corresponding postal codes on wikipedia: https://en.wikipedia.org/wiki/List_of_Dublin_postal_districts\n",
    "\n",
    "We will build a data frame containing the districts of Dublin, their corresponding postal codes and their descriptions. In order to do this, we will download the file from wikipedia, we will pars it using the *html5lib* parser and we will scrape it using the *BeautifulSoup* scraper. We will look for the table containing the information about the districts and we will add the information to the data frame.\n",
    "\n",
    "Using the *Nominatim* geocoder from the *geopy* library we will convert addresses into latitude and longitude values and we will add the values to the data frame. Together with this, the data frame containing the districts of Dublin is now complete. Using the *folium* library, we will create a map of Dublin and we will add one marker for each district to the map."
   ]
  },
  {
   "cell_type": "markdown",
   "metadata": {},
   "source": [
    "\n",
    "In order to answer Mr. Guinness' questions - *Where are the best places for him to leave? Which districts best fit his preferences?* - we will use the *Foursquare* API. For each district in Dublin we will build a GET request in order to look for (not more than 100) venues situated in a circle with radius of 2 kilometers centered in the latitude and longitude coordinates of the district. \n",
    "\n",
    "We will create a data frame which will contain all the venues in the districts of Dublin. Each venue will be a row in our data frame and will be characterized by the following features: name of district, latitude of district, longitude of district, name of venue, latitude of venue, longitude of venue and category of venue.\n",
    "\n",
    "Using this data frame we will find out how many venues are in each district (maximum 100), and we will analyze each district looking for the most relevant venues. We will group the venues in the data frame by districts and we will consider the mean of the frequency of occurrence for each different category. Based on this, we will build a new data frame containing each district along with the top most common venues.\n",
    "\n",
    "At this stage we will consider Mr. Guinness' preferences and we will group the districts regarding the categories of venues, accordingly, using clustering algorithms.\n",
    "\n",
    "Finally, we will find the group of districts which best matches Mr. Guinness' preferences."
   ]
  }
 ],
 "metadata": {
  "kernelspec": {
   "display_name": "Python",
   "language": "python",
   "name": "conda-env-python-py"
  },
  "language_info": {
   "codemirror_mode": {
    "name": "ipython",
    "version": 3
   },
   "file_extension": ".py",
   "mimetype": "text/x-python",
   "name": "python",
   "nbconvert_exporter": "python",
   "pygments_lexer": "ipython3",
   "version": "3.6.10"
  }
 },
 "nbformat": 4,
 "nbformat_minor": 4
}
