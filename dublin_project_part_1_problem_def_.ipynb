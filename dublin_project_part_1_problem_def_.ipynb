{
 "cells": [
  {
   "cell_type": "markdown",
   "metadata": {},
   "source": [
    "## Introduction: Defining the Business Problem <a name=\"introduction\"></a>"
   ]
  },
  {
   "cell_type": "markdown",
   "metadata": {},
   "source": [
    "Dublin, the capital and the largest city of Ireland, is situated on a bay of the North Atlantic Ocean and is bordered by the Dublin Mountains on the south. With an estimate of 50% of its citizens being younger than 25, Dublin is, for sure, one of the most youthful cities in Europe. Companies such as Google, Amazon, Microsoft, Citigroup, PayPal, Facebook, Twitter have European headquarters or operational bases there. As a consequence, Dublin is sometimes referred to as the new \"Tech Capital of Europe\".\n",
    "\n",
    "First of all, Dublin is known for its many pubs across the city. When speaking about nightlife, the best known area among tourists is the Temple Bar Neighborhood. The area is also known for its street performers and small live music venues. Other areas like those around Leeson Street, Harcourt Street, South William Street or Camden Street are popular among locals. When speaking about cuisine, there were five restaurants in 2018 in Dublin which shared six Michelin stars: Restaurant Patrick Guilbaud had two stars and there were four other restaurants with one star each (according to the Michelin Guide). \n",
    "\n",
    "Mr. John Guinness, a software developer, found a new job in Dublin and decided to move there. He is interested to rent an apartment. *Where are the best places for him to leave? Which districts in Dublin best fit his preferences?* \n",
    "\n",
    "Mr. Guinness provided us with a list of his preferences: theaters, parks, beaches, gyms, public transportation, pubs, restaurants (especially Italian and Chinese), coffee shops, shopping malls, supermarkets, groceries and convenience shops.  \n",
    "\n",
    "There are 22 districts in Dublin. We will use the *Foursquare* location data platform (https://foursquare.com/), and we will look for the most relevant venues for each district. We will group the districts regarding the categories of venues in Mr. Guinness' preferences list and, finally, we will find the group of districts which best matches his preferences.\n",
    "\n",
    "The target audience for this project could be anyone who looks for renting an apartment in Dublin. The project will be fitted to her/his preferences."
   ]
  }
 ],
 "metadata": {
  "kernelspec": {
   "display_name": "Python",
   "language": "python",
   "name": "conda-env-python-py"
  },
  "language_info": {
   "codemirror_mode": {
    "name": "ipython",
    "version": 3
   },
   "file_extension": ".py",
   "mimetype": "text/x-python",
   "name": "python",
   "nbconvert_exporter": "python",
   "pygments_lexer": "ipython3",
   "version": "3.6.10"
  }
 },
 "nbformat": 4,
 "nbformat_minor": 4
}
